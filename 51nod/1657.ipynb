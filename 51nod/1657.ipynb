{
 "cells": [
  {
   "cell_type": "markdown",
   "id": "1c57ddb1-e0cf-41ac-a013-7b00a4f53125",
   "metadata": {},
   "source": [
    "# [1657 电子龟](https://www.51nod.com/Html/Challenge/Problem.html#problemId=1657)"
   ]
  },
  {
   "cell_type": "code",
   "execution_count": 20,
   "id": "84feb4e3-fbd6-4284-8930-0d5f9e3c730f",
   "metadata": {},
   "outputs": [
    {
     "name": "stdout",
     "output_type": "stream",
     "text": [
      "[3, 4, 4, 6]\n",
      "-1\n"
     ]
    }
   ],
   "source": [
    "import itertools\n",
    "import operator\n",
    "\n",
    "def iter_seq(sequence):\n",
    "    group_id = 0\n",
    "    for action in sequence:\n",
    "        if action == 'T':\n",
    "            group_id += 1\n",
    "        yield group_id, action\n",
    "\n",
    "\n",
    "def solve(sequence, n):\n",
    "    t_total = 0\n",
    "    seq_len = len(sequence)\n",
    "    action_len_list = []\n",
    "    for group_id, action_list in itertools.groupby(iter_seq(sequence), operator.itemgetter(0)):\n",
    "        t_total += group_id != 0\n",
    "        if group_id == 0:\n",
    "            continue\n",
    "        action_len_list += [len(list(action_list))]\n",
    "        \n",
    "    if n >= t_total:\n",
    "        return seq_len - (n - t_total) % 2\n",
    "    else:\n",
    "        action_len_list = sorted(action_len_list)\n",
    "        print(action_len_list)\n",
    "    \n",
    "    return -1\n",
    "\n",
    "\n",
    "sequence = 'FFFFTFFFTFFFTFFFFFTFF'\n",
    "n = 2\n",
    "# sequence = 'FFFTFFF'\n",
    "# n = 2\n",
    "print(solve(sequence, n))"
   ]
  },
  {
   "cell_type": "code",
   "execution_count": 21,
   "id": "f076021e-3619-450e-9295-e75bcdee8be3",
   "metadata": {},
   "outputs": [
    {
     "name": "stdout",
     "output_type": "stream",
     "text": [
      "1\n"
     ]
    }
   ],
   "source": [
    "def max_distance_after_changes(s, n):\n",
    "    l, r, tot, ans, now = [0], [0], [0], 0, 0\n",
    "    for i in range(len(s)):\n",
    "        now += (1 if s[i] == 'F' else -1 if now > 0 else 1)\n",
    "        tot.append(now)\n",
    "        ans = max(ans, abs(now))\n",
    "    for d in range(-1, 2, 2):\n",
    "        l = [0] * (len(s) + 1)\n",
    "        r = [0] * (len(s) + 1)\n",
    "        for i in range(len(s), 0, -1):\n",
    "            now = tot[i-1]\n",
    "            if (s[i-1] == 'T') == (now >= 0):\n",
    "                l[i-1] = min(l[i]+1, r[i]+1)\n",
    "            else:\n",
    "                l[i-1] = min(l[i]+1, r[i]+2)\n",
    "            now = tot[i-1]+d\n",
    "            if (s[i-1] == 'F') == (now >= 0):\n",
    "                r[i-1] = min(l[i]+1, r[i]+1)\n",
    "            else:\n",
    "                r[i-1] = min(l[i]+2, r[i]+1)\n",
    "        for i in range(n+1):\n",
    "            if i >= l[0]:\n",
    "                ans = max(ans, abs(tot[-1]+i))\n",
    "            if i >= r[0]:\n",
    "                ans = max(ans, abs(tot[-1]+i+d))\n",
    "    return ans\n",
    "\n",
    "print(max_distance_after_changes('FT', 1))"
   ]
  },
  {
   "cell_type": "code",
   "execution_count": 8,
   "id": "c39b02eb-10cf-4b34-a176-e7d41fc01602",
   "metadata": {},
   "outputs": [
    {
     "name": "stdout",
     "output_type": "stream",
     "text": [
      "2\n"
     ]
    }
   ],
   "source": [
    "def dfs(sequence, n, pos=0, offset=0, direction=1, cache={}):\n",
    "    if offset == len(sequence):\n",
    "       return pos\n",
    "    cache_key = (n, offset, direction)\n",
    "    if cache_key in cache:\n",
    "        return cache[cache_key]\n",
    "    # change\n",
    "    if n > 0:\n",
    "        if sequence[offset] == 'F':\n",
    "            # change to T\n",
    "            pos1 = dfs(sequence, n - 1, pos=pos, offset=offset + 1, direction=-direction, cache=cache)\n",
    "        else: # sequence[offset] == 'T'\n",
    "            # change to F\n",
    "            pos1 = dfs(sequence, n - 1, pos=pos + direction, offset=offset + 1, direction=direction, cache=cache)\n",
    "        cache[cache_key] = pos1\n",
    "    # do not change\n",
    "    if n < len(sequence) - offset:\n",
    "        if sequence[offset] == 'F':\n",
    "            pos2 = dfs(sequence, n, pos=pos + direction, offset=offset + 1, direction=direction, cache=cache)\n",
    "        else: # sequence[offset] == 'T'\n",
    "            pos2 = dfs(sequence, n, pos=pos, offset=offset + 1, direction=-direction, cache=cache)\n",
    "        if cache_key not in cache:\n",
    "            cache[cache_key] = pos2\n",
    "        else:\n",
    "            pos1 = cache[cache_key]\n",
    "            cache[cache_key] = pos1 if abs(pos1) > abs(pos2) else pos2\n",
    "    return cache[cache_key]\n",
    "\n",
    "\n",
    "def solve(sequence, n):\n",
    "    t_total = sum(1 for action in sequence if action == 'T')\n",
    "    if n >= t_total:\n",
    "        return len(sequence) - (n - t_total) % 2\n",
    "    return abs(dfs(sequence, n))\n",
    "\n",
    "\n",
    "sequence = 'TFTTF'\n",
    "n = 2\n",
    "print(solve(sequence, n))"
   ]
  },
  {
   "cell_type": "code",
   "execution_count": 14,
   "id": "09b619d5-6438-4972-8cd5-67796921e6fb",
   "metadata": {},
   "outputs": [
    {
     "data": {
      "text/plain": [
       "2"
      ]
     },
     "metadata": {},
     "output_type": "display_data"
    },
    {
     "data": {
      "text/plain": [
       "{(0, 4, -1): 0,\n",
       " (0, 3, 1): 0,\n",
       " (0, 2, -1): 0,\n",
       " (1, 1, 1): 2,\n",
       " (1, 2, 1): 2,\n",
       " (1, 3, -1): 2,\n",
       " (1, 4, 1): 2,\n",
       " (2, 0, 1): 2,\n",
       " (2, 1, -1): 2,\n",
       " (2, 2, -1): 2,\n",
       " (2, 3, 1): 2}"
      ]
     },
     "metadata": {},
     "output_type": "display_data"
    },
    {
     "name": "stdout",
     "output_type": "stream",
     "text": [
      "2\n"
     ]
    }
   ],
   "source": [
    "def solve2(sequence, n):\n",
    "    t_total = sum(1 for action in sequence if action == 'T')\n",
    "    if n >= t_total:\n",
    "        return len(sequence) - (n - t_total) % 2\n",
    "    cache = {}\n",
    "    pos = dfs(sequence, n, cache=cache)\n",
    "    display(pos)\n",
    "    display(cache)\n",
    "    return abs(pos)\n",
    "\n",
    "\n",
    "sequence = 'TFTTF'\n",
    "n = 2\n",
    "print(solve2(sequence, n))"
   ]
  },
  {
   "cell_type": "code",
   "execution_count": null,
   "id": "c47d1253-4174-46ed-a4fd-3ddbdc909b8f",
   "metadata": {},
   "outputs": [],
   "source": [
    "def dfs(sequence, n, offset, left, direction=1, cache={}):\n",
    "    '''\n",
    "    @param sequence: 指令序列\n",
    "    @param n: 修改次数\n",
    "    @param offset: 已经执行指令序列的数量\n",
    "    @param left: 剩余修改次数\n",
    "    @param direction: 朝向，1为正方向，-1为反方向\n",
    "    @param cache: 状态缓存，以(n, offset, direction)为key，以距离原点最远坐标为value\n",
    "    @return: 距离原点最远\n",
    "    '''\n",
    "    cache_key = (n, offset, direction)\n",
    "    if cache_key in cache:\n",
    "        return cache[cache_key]\n",
    "    if offset == 0:\n",
    "        if left == n and direction == 1:\n",
    "            cache[cache_key] = 0\n",
    "            return cache[cache_key]\n",
    "        else:\n",
    "            cache[cache_key] = float('nan')\n",
    "            return cache[cache_key]\n",
    "    else:\n",
    "        if sequence[offset - 1] == 'T':\n",
    "            # 修改\n",
    "            \n",
    "            # 不修改\n",
    "        else: # sequence[offset - 1] == 'F'\n",
    "            pass\n",
    "    \n",
    "    "
   ]
  }
 ],
 "metadata": {
  "kernelspec": {
   "display_name": "Python 3 (ipykernel)",
   "language": "python",
   "name": "python3"
  },
  "language_info": {
   "codemirror_mode": {
    "name": "ipython",
    "version": 3
   },
   "file_extension": ".py",
   "mimetype": "text/x-python",
   "name": "python",
   "nbconvert_exporter": "python",
   "pygments_lexer": "ipython3",
   "version": "3.12.4"
  }
 },
 "nbformat": 4,
 "nbformat_minor": 5
}
