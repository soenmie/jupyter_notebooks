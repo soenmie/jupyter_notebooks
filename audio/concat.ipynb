{
 "cells": [
  {
   "cell_type": "markdown",
   "id": "7202ab18-b836-4540-964d-5b40d317e35c",
   "metadata": {},
   "source": [
    "# concat"
   ]
  },
  {
   "cell_type": "code",
   "execution_count": 4,
   "id": "626f8c2c-52bb-45b5-b5fb-1f2d67183bff",
   "metadata": {},
   "outputs": [],
   "source": [
    "from pydub import AudioSegment\n",
    "\n",
    "def concatenate_wav_with_silence(file1, file2, file3, silence_duration_ms, output_file):\n",
    "    # 读取音频文件\n",
    "    audio1 = AudioSegment.from_wav(file1)\n",
    "    audio2 = AudioSegment.from_wav(file2)\n",
    "    audio3 = AudioSegment.from_wav(file3)\n",
    "\n",
    "    # 创建指定时长的空白音频段\n",
    "    silence = AudioSegment.silent(duration=silence_duration_ms)\n",
    "\n",
    "    # 拼接音频：音频1 + 空白 + 音频2\n",
    "    combined = audio1 + silence + audio2 + audio3\n",
    "\n",
    "    # 导出拼接后的音频文件\n",
    "    combined.export(output_file, format=\"mp3\")\n",
    "\n",
    "# 示例使用\n",
    "file1 = \"/Users/sunmian/Downloads/title.wav\"\n",
    "file2 = \"/Users/sunmian/Downloads/part-1.wav\"\n",
    "file3 = \"/Users/sunmian/Downloads/part-2.wav\"\n",
    "silence_duration_ms = 1000  # 空白时长为2000毫秒（2秒）\n",
    "output_file = \"/Users/sunmian/Downloads/output.mp3\"\n",
    "\n",
    "concatenate_wav_with_silence(file1, file2, file3, silence_duration_ms, output_file)"
   ]
  },
  {
   "cell_type": "code",
   "execution_count": null,
   "id": "99fc47d9-9aa8-4e44-94ff-b1207dce2ca8",
   "metadata": {},
   "outputs": [],
   "source": []
  }
 ],
 "metadata": {
  "kernelspec": {
   "display_name": "Python 3 (ipykernel)",
   "language": "python",
   "name": "python3"
  },
  "language_info": {
   "codemirror_mode": {
    "name": "ipython",
    "version": 3
   },
   "file_extension": ".py",
   "mimetype": "text/x-python",
   "name": "python",
   "nbconvert_exporter": "python",
   "pygments_lexer": "ipython3",
   "version": "3.12.4"
  }
 },
 "nbformat": 4,
 "nbformat_minor": 5
}
