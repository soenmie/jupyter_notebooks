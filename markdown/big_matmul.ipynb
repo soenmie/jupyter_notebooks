{
 "cells": [
  {
   "cell_type": "code",
   "execution_count": null,
   "id": "b4bef9a6-3365-45ff-97a7-791dbd1e4168",
   "metadata": {},
   "outputs": [],
   "source": []
  },
  {
   "cell_type": "code",
   "execution_count": null,
   "id": "3a43a731-e024-4167-9b5a-6465cfe13bc4",
   "metadata": {},
   "outputs": [],
   "source": []
  },
  {
   "cell_type": "code",
   "execution_count": null,
   "id": "2e24382d-c5be-4a10-bd91-efa2eb8d3f22",
   "metadata": {},
   "outputs": [],
   "source": []
  },
  {
   "cell_type": "markdown",
   "id": "b2dcdcf2-c885-44e1-b21c-663383a3d019",
   "metadata": {},
   "source": [
    "为了在MapReduce上实现连续的两次矩阵乘法（比如计算 $ A \\times B \\times C $），我们需要设计一个算法来在分布式系统中执行这两次乘法操作。这通常需要两个MapReduce作业，因为每个作业通常只能执行一次矩阵乘法。然而，如果我们能够在一次MapReduce作业中以一种特殊的方式组织数据，有可能用一个mapper和一个reducer完成。\n",
    "\n",
    "以下是如何使用一个mapper和一个reducer实现这一点的一个步骤：\n",
    "\n",
    "**步骤 1: 准备阶段**\n",
    "首先，矩阵A和B要按照它们将要相乘的形式分块，即A的列必须和B的行对齐。对于矩阵B和C也一样。\n",
    "\n",
    "**步骤 2: Mapper**\n",
    "Mapper的任务是读取分块矩阵的每一个元素，并创建键值对。对于$ A \\times B $的操作，可以为 $ A_{i, k} $和 $ B_{k, j} $创建键值对 $(i, (k, value))$和$(k, (j, value))$。注：这里的键值对生成需要特殊设计，以确保键值对能够帮助我们在Reducer中正确地计算出结果。由于我们要在一个Reducer中同时处理两次矩阵乘法，我们需要设计能够区分两步操作的键。\n",
    "\n",
    "**步骤 3: Reducer**\n",
    "Reducer接收到的每一个key对应的都是一组可以相乘的值。Reducer中，我们首先将收到的键值对分为两组，一组用于 $ A \\times B $，一组用于 $ B \\times C $。然后，对于每个 $i, j$对，我们执行两次乘法：\n",
    "1. 首先计算 $ A \\times B $ 的结果。对于同一个 $i$，我们将所有 $k$ 相同的 $A_{i, k}$ 和 $B_{k, j}$ 相乘，并对所有相同的 $j$ 进行累加，以得到 $ (AB)_{i, j} $。\n",
    "2. 接着计算 $ AB \\times C $ 的结果。我们已经有了 $ (AB)_{i, j} $，我们将其与对应的 $ C_{j, l} $ 相乘，并对所有相同的 $l$ 进行累加，就得到最终的结果 $ (ABC)_{i, l} $。\n",
    "\n",
    "这个简化的设计可能会在一个真实的系统中引起一些问题，如数据倾斜、内存溢出等。在实践中，这通常需要更详细的设计和优化。例如，矩阵可能需要预处理（如重新排序或分区）以减少数据倾斜，或者可能需要用到多个Reducer来并行化计算。实际中，执行连续矩阵乘法的最佳实践还会涉及对输入矩阵的结构和大小的考虑以确定合适的MapReduce分解策略。"
   ]
  },
  {
   "cell_type": "code",
   "execution_count": null,
   "id": "31766302-b88a-45ce-ba2d-7ca69d6c31a7",
   "metadata": {},
   "outputs": [],
   "source": [
    "https://juejin.cn/post/7062256365636419592?searchId=20240723195148533EF2612F409E57C375"
   ]
  }
 ],
 "metadata": {
  "kernelspec": {
   "display_name": "Python 3 (ipykernel)",
   "language": "python",
   "name": "python3"
  },
  "language_info": {
   "codemirror_mode": {
    "name": "ipython",
    "version": 3
   },
   "file_extension": ".py",
   "mimetype": "text/x-python",
   "name": "python",
   "nbconvert_exporter": "python",
   "pygments_lexer": "ipython3",
   "version": "3.12.4"
  }
 },
 "nbformat": 4,
 "nbformat_minor": 5
}
