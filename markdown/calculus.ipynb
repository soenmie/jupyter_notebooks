{
 "cells": [
  {
   "cell_type": "code",
   "execution_count": null,
   "id": "ac568bc5-a7c8-4dd4-b832-9cf59af17626",
   "metadata": {},
   "outputs": [],
   "source": []
  },
  {
   "cell_type": "markdown",
   "id": "fad1ba9d-a21a-4001-a63c-bfdd4500086f",
   "metadata": {},
   "source": [
    "要找到 f(x) = g(x) * x 的导数，我们可以使用乘积法则。乘积法则表示，如果有两个可微的函数 u(x) 和 v(x)，它们的乘积 u(x)v(x) 的导数为：\n",
    "\n",
    "(uv)' = u'v + uv'\n",
    "\n",
    "应用这个法则到 f(x) = g(x) * x，我们可以将 g(x) 视为 u(x)，将 x 视为 v(x)，那么根据乘积法则有：\n",
    "\n",
    "f' (x) = [g(x) * x]' = g'(x) * x + g(x) * (x)'\n",
    "\n",
    "因为 x 的导数是 1，所以我们可以写成：\n",
    "\n",
    "f' (x) = g'(x) * x + g(x) * 1\n",
    "       = g'(x) * x + g(x)\n",
    "\n",
    "这就是 f(x) = g(x) * x 的导数。"
   ]
  },
  {
   "cell_type": "code",
   "execution_count": null,
   "id": "8c9de282-f701-4b72-9ad1-11f64f754f48",
   "metadata": {},
   "outputs": [],
   "source": []
  },
  {
   "cell_type": "markdown",
   "id": "258599d5-d4c3-4e06-99e0-d139ce228f25",
   "metadata": {},
   "source": [
    "乘积法则是微积分中一个重要的法则，它用于计算两个函数乘积的导数。我们可以通过定义导数为函数的极限，并使用极限的性质来推导乘积法则。\n",
    "\n",
    "假设我们有两个可导的函数 u(x) 和 v(x)，我们需要找到他们乘积的导数，即 (u(x) * v(x))'。\n",
    "\n",
    "根据导数的定义：\n",
    "\n",
    "(uv)' = lim (h -> 0) [u(x + h)v(x + h) - u(x)v(x)] / h\n",
    "\n",
    "为了简化这个极限的表达式，我们可以加上和减去同一个项 u(x + h)v(x)，它不会改变等式的真实性，因为我们只是加上和减去了同一个数。这个步骤是为了创造一些有用的组合，这样我们才能应用极限的性质。这是推导的关键步骤：\n",
    "\n",
    "(uv)' = lim (h -> 0) [(u(x + h)v(x + h) - u(x + h)v(x)) + (u(x + h)v(x) - u(x)v(x))] / h\n",
    "\n",
    "现在，我们可以把极限分成两个部分并分别处理它们：\n",
    "\n",
    "(uv)' = lim (h -> 0) [u(x + h)v(x + h) - u(x + h)v(x)] / h + lim (h -> 0) [u(x + h)v(x) - u(x)v(x)] / h\n",
    "\n",
    "我们可以重写这两个极限，使其看起来像是某个函数的导数：\n",
    "\n",
    "(uv)' = lim (h -> 0) [u(x + h)(v(x + h) - v(x))] / h + lim (h -> 0) [v(x)(u(x + h) - u(x))] / h\n",
    "\n",
    "现在，我们可以分别应用 u(x) 和 v(x) 的导数定义：\n",
    "\n",
    "(uv)' = u(x) * lim (h -> 0) [(v(x + h) - v(x)) / h] + v(x) * lim (h -> 0) [(u(x + h) - u(x)) / h]\n",
    "\n",
    "由于 lim (h -> 0) [(v(x + h) - v(x)) / h] 是 v(x) 的导数，记作 v'(x)，类似地 lim (h -> 0) [(u(x + h) - u(x)) / h] 是 u(x) 的导数，记作 u'(x)。所以最后我们得到：\n",
    "\n",
    "(uv)' = u(x) * v'(x) + v(x) * u'(x)\n",
    "\n",
    "这就是乘积法则 (uv)' = u'v + uv' 的推导。"
   ]
  },
  {
   "cell_type": "code",
   "execution_count": null,
   "id": "5dac61f3-2411-4394-b9b3-0aaff08677e2",
   "metadata": {},
   "outputs": [],
   "source": []
  }
 ],
 "metadata": {
  "kernelspec": {
   "display_name": "Python 3 (ipykernel)",
   "language": "python",
   "name": "python3"
  },
  "language_info": {
   "codemirror_mode": {
    "name": "ipython",
    "version": 3
   },
   "file_extension": ".py",
   "mimetype": "text/x-python",
   "name": "python",
   "nbconvert_exporter": "python",
   "pygments_lexer": "ipython3",
   "version": "3.12.4"
  }
 },
 "nbformat": 4,
 "nbformat_minor": 5
}
