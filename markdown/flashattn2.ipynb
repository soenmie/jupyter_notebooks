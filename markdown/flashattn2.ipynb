{
 "cells": [
  {
   "cell_type": "markdown",
   "id": "73e0e1fe-9adc-4eef-945c-164f86e7dc87",
   "metadata": {},
   "source": [
    "# flashattn2"
   ]
  },
  {
   "cell_type": "markdown",
   "id": "92979fb6-5df3-4401-8f09-074d01efe7ac",
   "metadata": {},
   "source": [
    " - 访存\n",
    " - alibi"
   ]
  },
  {
   "cell_type": "raw",
   "id": "4baf6434-cc38-4b51-b195-48c6f3b25adf",
   "metadata": {},
   "source": [
    "代码基本是重构了一遍，加了一些alibi和sliding window 这些功能。在qkv计算上改了一下双层for循环的顺序，降低一些仿存。"
   ]
  }
 ],
 "metadata": {
  "kernelspec": {
   "display_name": "Python 3 (ipykernel)",
   "language": "python",
   "name": "python3"
  },
  "language_info": {
   "codemirror_mode": {
    "name": "ipython",
    "version": 3
   },
   "file_extension": ".py",
   "mimetype": "text/x-python",
   "name": "python",
   "nbconvert_exporter": "python",
   "pygments_lexer": "ipython3",
   "version": "3.12.4"
  }
 },
 "nbformat": 4,
 "nbformat_minor": 5
}
