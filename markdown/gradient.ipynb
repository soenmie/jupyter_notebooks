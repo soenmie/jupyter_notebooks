{
 "cells": [
  {
   "cell_type": "markdown",
   "id": "808bba49-fc01-4335-9840-f123db889dee",
   "metadata": {},
   "source": [
    "# gradient"
   ]
  },
  {
   "cell_type": "code",
   "execution_count": 1,
   "id": "2e366e0f-8e28-43e6-a1be-f7929e9270f9",
   "metadata": {},
   "outputs": [],
   "source": [
    "import torch\n",
    "A = torch.tensor([\n",
    "    [1, 10, 100],\n",
    "    [2, 20, 200],\n",
    "    [4, 40, 400],\n",
    "], dtype=torch.float)"
   ]
  },
  {
   "cell_type": "code",
   "execution_count": 2,
   "id": "0caaccb8-3427-4cf9-bee8-538320e1574a",
   "metadata": {},
   "outputs": [],
   "source": [
    "B = torch.randn(3, requires_grad=True)"
   ]
  },
  {
   "cell_type": "code",
   "execution_count": 3,
   "id": "d76099fe-ba7a-406f-bf1e-9c13a044cb68",
   "metadata": {},
   "outputs": [],
   "source": [
    "(B @ A).sum().backward()"
   ]
  },
  {
   "cell_type": "code",
   "execution_count": 4,
   "id": "8efc9ecf-b7c0-4e16-9d33-4d5d022cde23",
   "metadata": {},
   "outputs": [
    {
     "data": {
      "text/plain": [
       "tensor([111., 222., 444.])"
      ]
     },
     "execution_count": 4,
     "metadata": {},
     "output_type": "execute_result"
    }
   ],
   "source": [
    "B.grad"
   ]
  },
  {
   "cell_type": "code",
   "execution_count": 5,
   "id": "58dbbcfa-56a3-4416-a9e9-d17d823aaa38",
   "metadata": {},
   "outputs": [],
   "source": [
    "B = torch.randn([4, 3], requires_grad=True)"
   ]
  },
  {
   "cell_type": "code",
   "execution_count": 6,
   "id": "33c7ddbc-aaeb-482f-8e34-65ac047dde2d",
   "metadata": {},
   "outputs": [],
   "source": [
    "(B @ A).sum().backward()"
   ]
  },
  {
   "cell_type": "code",
   "execution_count": 7,
   "id": "c900f3b1-e0c3-44db-a3b3-7abf7ef19fb1",
   "metadata": {},
   "outputs": [
    {
     "data": {
      "text/plain": [
       "tensor([[111., 222., 444.],\n",
       "        [111., 222., 444.],\n",
       "        [111., 222., 444.],\n",
       "        [111., 222., 444.]])"
      ]
     },
     "execution_count": 7,
     "metadata": {},
     "output_type": "execute_result"
    }
   ],
   "source": [
    "B.grad"
   ]
  },
  {
   "cell_type": "code",
   "execution_count": 8,
   "id": "320fcaec-a3d2-4397-b7eb-9c9e60dbddd3",
   "metadata": {},
   "outputs": [],
   "source": [
    "B = torch.randn([3, 4], requires_grad=True)"
   ]
  },
  {
   "cell_type": "code",
   "execution_count": 9,
   "id": "b35ab27e-5d6c-452f-885a-d095d7e7a54c",
   "metadata": {},
   "outputs": [],
   "source": [
    "(A @ B).sum().backward()"
   ]
  },
  {
   "cell_type": "code",
   "execution_count": 10,
   "id": "a9026d4a-6029-4d0e-a99a-496e12a9170e",
   "metadata": {},
   "outputs": [
    {
     "data": {
      "text/plain": [
       "tensor([[  7.,   7.,   7.,   7.],\n",
       "        [ 70.,  70.,  70.,  70.],\n",
       "        [700., 700., 700., 700.]])"
      ]
     },
     "execution_count": 10,
     "metadata": {},
     "output_type": "execute_result"
    }
   ],
   "source": [
    "B.grad"
   ]
  },
  {
   "cell_type": "code",
   "execution_count": null,
   "id": "9772bb75-df95-44f6-8ade-ddabc537b88f",
   "metadata": {},
   "outputs": [],
   "source": []
  }
 ],
 "metadata": {
  "kernelspec": {
   "display_name": "Python 3 (ipykernel)",
   "language": "python",
   "name": "python3"
  },
  "language_info": {
   "codemirror_mode": {
    "name": "ipython",
    "version": 3
   },
   "file_extension": ".py",
   "mimetype": "text/x-python",
   "name": "python",
   "nbconvert_exporter": "python",
   "pygments_lexer": "ipython3",
   "version": "3.12.4"
  }
 },
 "nbformat": 4,
 "nbformat_minor": 5
}
