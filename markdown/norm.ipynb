{
 "cells": [
  {
   "cell_type": "markdown",
   "metadata": {
    "id": "krNuWz2HjVP_"
   },
   "source": [
    "# 通过正态分布初始化模型参数的探究"
   ]
  },
  {
   "cell_type": "markdown",
   "metadata": {},
   "source": [
    " - https://zhuanlan.zhihu.com/p/474988236\n",
    " - https://www.zhihu.com/question/519668254/answer/2371885202\n"
   ]
  },
  {
   "cell_type": "raw",
   "metadata": {},
   "source": [
    "TODO(sunmian) 新增一个实验，m 和 n的倍数关系和奇异值分解之后，最大值 + 最小值的关系，并plot一下奇异值向量依次的变化规律"
   ]
  },
  {
   "cell_type": "code",
   "execution_count": null,
   "metadata": {
    "id": "q4MW780ndp9N"
   },
   "outputs": [],
   "source": [
    "import torch"
   ]
  },
  {
   "cell_type": "code",
   "execution_count": null,
   "metadata": {
    "id": "1_lJRLzod9CU"
   },
   "outputs": [],
   "source": [
    "import torch.nn as nn"
   ]
  },
  {
   "cell_type": "markdown",
   "metadata": {
    "id": "KqQv-XSIlZla"
   },
   "source": [
    "## 方阵"
   ]
  },
  {
   "cell_type": "code",
   "execution_count": null,
   "metadata": {
    "id": "YfbNjqLheB8c"
   },
   "outputs": [],
   "source": [
    "m, n = 4096, 4096\n",
    "std = torch.sqrt(torch.tensor(n))\n",
    "A = torch.randn((m, n), device='cuda') / std"
   ]
  },
  {
   "cell_type": "code",
   "execution_count": null,
   "metadata": {
    "colab": {
     "base_uri": "https://localhost:8080/"
    },
    "id": "SfwIZh_LkQqd",
    "outputId": "b538683f-903f-47cf-efe9-331cb1ba145a"
   },
   "outputs": [
    {
     "data": {
      "text/plain": [
       "tensor(0.9846, device='cuda:0')"
      ]
     },
     "execution_count": 4,
     "metadata": {},
     "output_type": "execute_result"
    }
   ],
   "source": [
    "torch.norm(A[0])"
   ]
  },
  {
   "cell_type": "code",
   "execution_count": null,
   "metadata": {
    "colab": {
     "base_uri": "https://localhost:8080/"
    },
    "id": "flFtZFGppwnK",
    "outputId": "58ae606a-e244-4f7b-ae9d-2a59a385a9f9"
   },
   "outputs": [
    {
     "data": {
      "text/plain": [
       "tensor(-0.0145, device='cuda:0')"
      ]
     },
     "execution_count": 5,
     "metadata": {},
     "output_type": "execute_result"
    }
   ],
   "source": [
    "torch.dot(A[0], A[1])"
   ]
  },
  {
   "cell_type": "code",
   "execution_count": null,
   "metadata": {
    "colab": {
     "base_uri": "https://localhost:8080/"
    },
    "id": "HLmtqlRIkU0j",
    "outputId": "ef716db6-b17b-4de8-e74a-1535f10eb2b8"
   },
   "outputs": [
    {
     "data": {
      "text/plain": [
       "tensor(1.0096, device='cuda:0')"
      ]
     },
     "execution_count": 6,
     "metadata": {},
     "output_type": "execute_result"
    }
   ],
   "source": [
    "torch.norm(A[:, 0])"
   ]
  },
  {
   "cell_type": "code",
   "execution_count": null,
   "metadata": {
    "colab": {
     "base_uri": "https://localhost:8080/"
    },
    "id": "tK37XhA6p1GQ",
    "outputId": "083fc98a-079e-4ddb-c63f-d0e1c2eb490f"
   },
   "outputs": [
    {
     "data": {
      "text/plain": [
       "tensor(0.0049, device='cuda:0')"
      ]
     },
     "execution_count": 7,
     "metadata": {},
     "output_type": "execute_result"
    }
   ],
   "source": [
    "torch.dot(A[:, 0], A[:, 1])"
   ]
  },
  {
   "cell_type": "code",
   "execution_count": null,
   "metadata": {
    "id": "ZZYTXNUEkYMq"
   },
   "outputs": [],
   "source": [
    "B = A @ A.T"
   ]
  },
  {
   "cell_type": "code",
   "execution_count": null,
   "metadata": {
    "colab": {
     "base_uri": "https://localhost:8080/"
    },
    "id": "KincnhsLkfJd",
    "outputId": "cca254ee-5595-4081-cc1d-66fd4ce28588"
   },
   "outputs": [
    {
     "data": {
      "text/plain": [
       "tensor(3.8150e-06, device='cuda:0')"
      ]
     },
     "execution_count": 9,
     "metadata": {},
     "output_type": "execute_result"
    }
   ],
   "source": [
    "torch.norm(B - torch.eye(m, device=B.device)) / (m ** 2)"
   ]
  },
  {
   "cell_type": "code",
   "execution_count": null,
   "metadata": {
    "colab": {
     "base_uri": "https://localhost:8080/"
    },
    "id": "OwiuTb9xoiog",
    "outputId": "e988d310-8d46-4b01-87a8-78b2dbc45623"
   },
   "outputs": [
    {
     "data": {
      "text/plain": [
       "tensor([1.9951e+00, 1.9925e+00, 1.9893e+00,  ..., 1.1717e-03, 5.4775e-04,\n",
       "        1.0965e-04], device='cuda:0')"
      ]
     },
     "execution_count": 10,
     "metadata": {},
     "output_type": "execute_result"
    }
   ],
   "source": [
    "_, S, _ = torch.svd(A)\n",
    "S"
   ]
  },
  {
   "cell_type": "markdown",
   "metadata": {
    "id": "6jjhGMeWlhYr"
   },
   "source": [
    "## 行数大于列数"
   ]
  },
  {
   "cell_type": "code",
   "execution_count": null,
   "metadata": {
    "id": "HYcngzu3kgk9"
   },
   "outputs": [],
   "source": [
    "m, n = 8192, 4096\n",
    "std = torch.sqrt(torch.tensor(n))\n",
    "A = torch.randn((m, n), device='cuda') / std"
   ]
  },
  {
   "cell_type": "code",
   "execution_count": null,
   "metadata": {
    "colab": {
     "base_uri": "https://localhost:8080/"
    },
    "id": "tsADYoKVlIpF",
    "outputId": "a93f8c79-c97c-49f1-a226-7793a131a7ef"
   },
   "outputs": [
    {
     "data": {
      "text/plain": [
       "tensor(1.0168, device='cuda:0')"
      ]
     },
     "execution_count": 12,
     "metadata": {},
     "output_type": "execute_result"
    }
   ],
   "source": [
    "torch.norm(A[0])"
   ]
  },
  {
   "cell_type": "code",
   "execution_count": null,
   "metadata": {
    "colab": {
     "base_uri": "https://localhost:8080/"
    },
    "id": "NxBk-BtJvJRz",
    "outputId": "6e5aba34-d10b-47b2-c9fd-b58b314a272d"
   },
   "outputs": [
    {
     "data": {
      "text/plain": [
       "tensor(-0.0087, device='cuda:0')"
      ]
     },
     "execution_count": 13,
     "metadata": {},
     "output_type": "execute_result"
    }
   ],
   "source": [
    "torch.dot(A[0], A[1])"
   ]
  },
  {
   "cell_type": "code",
   "execution_count": null,
   "metadata": {
    "colab": {
     "base_uri": "https://localhost:8080/"
    },
    "id": "ONxrPj1KlKR4",
    "outputId": "05593b0b-0757-4445-b488-c9277d0d8720"
   },
   "outputs": [
    {
     "data": {
      "text/plain": [
       "tensor(1.4054, device='cuda:0')"
      ]
     },
     "execution_count": 14,
     "metadata": {},
     "output_type": "execute_result"
    }
   ],
   "source": [
    "torch.norm(A[:, 0])"
   ]
  },
  {
   "cell_type": "code",
   "execution_count": null,
   "metadata": {
    "colab": {
     "base_uri": "https://localhost:8080/"
    },
    "id": "Z870o5UkvN4F",
    "outputId": "c093c68b-2396-40d5-ceb6-254ea6c64ab5"
   },
   "outputs": [
    {
     "data": {
      "text/plain": [
       "tensor(-0.0283, device='cuda:0')"
      ]
     },
     "execution_count": 15,
     "metadata": {},
     "output_type": "execute_result"
    }
   ],
   "source": [
    "torch.dot(A[:, 0], A[:, 1])"
   ]
  },
  {
   "cell_type": "code",
   "execution_count": null,
   "metadata": {
    "id": "4DbAiyGylLxO"
   },
   "outputs": [],
   "source": [
    "B = A @ A.T"
   ]
  },
  {
   "cell_type": "code",
   "execution_count": null,
   "metadata": {
    "colab": {
     "base_uri": "https://localhost:8080/"
    },
    "id": "v483T11DlQAT",
    "outputId": "b92c758f-cd2a-4f00-be3c-13f67be64826"
   },
   "outputs": [
    {
     "data": {
      "text/plain": [
       "tensor([[ 1.0339e+00, -8.7324e-03,  2.8929e-03,  ..., -2.0385e-02,\n",
       "          3.2770e-03,  2.8342e-02],\n",
       "        [-8.7324e-03,  1.0134e+00,  2.2873e-03,  ..., -1.4398e-02,\n",
       "         -7.2349e-03,  5.4106e-03],\n",
       "        [ 2.8929e-03,  2.2873e-03,  9.9706e-01,  ...,  6.3395e-03,\n",
       "         -2.0819e-03,  8.4754e-04],\n",
       "        ...,\n",
       "        [-2.0385e-02, -1.4398e-02,  6.3395e-03,  ...,  1.0033e+00,\n",
       "         -7.1462e-04,  1.4631e-02],\n",
       "        [ 3.2770e-03, -7.2349e-03, -2.0819e-03,  ..., -7.1462e-04,\n",
       "          1.0030e+00,  6.1640e-03],\n",
       "        [ 2.8342e-02,  5.4106e-03,  8.4754e-04,  ...,  1.4631e-02,\n",
       "          6.1640e-03,  1.0216e+00]], device='cuda:0')"
      ]
     },
     "execution_count": 17,
     "metadata": {},
     "output_type": "execute_result"
    }
   ],
   "source": [
    "B"
   ]
  },
  {
   "cell_type": "code",
   "execution_count": null,
   "metadata": {
    "colab": {
     "base_uri": "https://localhost:8080/"
    },
    "id": "q5v-00YplUWu",
    "outputId": "f5c88951-d379-4506-dc62-5e36672b55a4"
   },
   "outputs": [
    {
     "data": {
      "text/plain": [
       "tensor(1.9067e-06, device='cuda:0')"
      ]
     },
     "execution_count": 18,
     "metadata": {},
     "output_type": "execute_result"
    }
   ],
   "source": [
    "torch.norm(B - torch.eye(m, device=B.device)) / (m ** 2)"
   ]
  },
  {
   "cell_type": "code",
   "execution_count": null,
   "metadata": {
    "colab": {
     "base_uri": "https://localhost:8080/"
    },
    "id": "X8fXDWHjvFRw",
    "outputId": "9984588c-184e-45d3-e527-d51f9ffdf97e"
   },
   "outputs": [
    {
     "data": {
      "text/plain": [
       "tensor([2.4185, 2.4107, 2.4054,  ..., 0.4217, 0.4186, 0.4174], device='cuda:0')"
      ]
     },
     "execution_count": 19,
     "metadata": {},
     "output_type": "execute_result"
    }
   ],
   "source": [
    "_, S, _ = torch.svd(A)\n",
    "S"
   ]
  },
  {
   "cell_type": "markdown",
   "metadata": {
    "id": "buYQH_Idlz05"
   },
   "source": [
    "## 行数小于列数"
   ]
  },
  {
   "cell_type": "code",
   "execution_count": null,
   "metadata": {
    "id": "TjJ0xlpSlqma"
   },
   "outputs": [],
   "source": [
    "m, n = 4096, 8192\n",
    "std = torch.sqrt(torch.tensor(n))\n",
    "A = torch.randn((m, n), device='cuda') / std"
   ]
  },
  {
   "cell_type": "code",
   "execution_count": null,
   "metadata": {
    "colab": {
     "base_uri": "https://localhost:8080/"
    },
    "id": "yin_V0Bsl6Dg",
    "outputId": "e9bd3ef1-4d33-4645-c5da-5fd648c29c87"
   },
   "outputs": [
    {
     "data": {
      "text/plain": [
       "tensor(0.9898, device='cuda:0')"
      ]
     },
     "execution_count": 21,
     "metadata": {},
     "output_type": "execute_result"
    }
   ],
   "source": [
    "torch.norm(A[0])"
   ]
  },
  {
   "cell_type": "code",
   "execution_count": null,
   "metadata": {
    "colab": {
     "base_uri": "https://localhost:8080/"
    },
    "id": "SHyHU2CMvKr-",
    "outputId": "b502ab7d-3485-4b4e-ed9b-70e40ea7dc5a"
   },
   "outputs": [
    {
     "data": {
      "text/plain": [
       "tensor(0.0065, device='cuda:0')"
      ]
     },
     "execution_count": 22,
     "metadata": {},
     "output_type": "execute_result"
    }
   ],
   "source": [
    "torch.dot(A[0], A[1])"
   ]
  },
  {
   "cell_type": "code",
   "execution_count": null,
   "metadata": {
    "colab": {
     "base_uri": "https://localhost:8080/"
    },
    "id": "IJh7DmBFl86Y",
    "outputId": "4dd650c2-b14b-43c3-f1a1-82f29af87bb9"
   },
   "outputs": [
    {
     "data": {
      "text/plain": [
       "tensor(0.7043, device='cuda:0')"
      ]
     },
     "execution_count": 23,
     "metadata": {},
     "output_type": "execute_result"
    }
   ],
   "source": [
    "torch.norm(A[:, 0])"
   ]
  },
  {
   "cell_type": "code",
   "execution_count": null,
   "metadata": {
    "colab": {
     "base_uri": "https://localhost:8080/"
    },
    "id": "twPYNVX4vPuD",
    "outputId": "0551494e-4625-44cf-aef9-ddc3bdcbc8d0"
   },
   "outputs": [
    {
     "data": {
      "text/plain": [
       "tensor(-0.0015, device='cuda:0')"
      ]
     },
     "execution_count": 24,
     "metadata": {},
     "output_type": "execute_result"
    }
   ],
   "source": [
    "torch.dot(A[:, 0], A[:, 1])"
   ]
  },
  {
   "cell_type": "code",
   "execution_count": null,
   "metadata": {
    "id": "_qE4CgGumHxu"
   },
   "outputs": [],
   "source": [
    "B = A @ A.T"
   ]
  },
  {
   "cell_type": "code",
   "execution_count": null,
   "metadata": {
    "colab": {
     "base_uri": "https://localhost:8080/"
    },
    "id": "5c6x-xoImQ8Z",
    "outputId": "c5f90a6b-70be-4d80-bd66-db121047c926"
   },
   "outputs": [
    {
     "data": {
      "text/plain": [
       "tensor([[ 0.9797,  0.0065,  0.0037,  ..., -0.0123,  0.0227, -0.0084],\n",
       "        [ 0.0065,  1.0072,  0.0059,  ...,  0.0135,  0.0029, -0.0136],\n",
       "        [ 0.0037,  0.0059,  1.0029,  ..., -0.0023, -0.0023, -0.0039],\n",
       "        ...,\n",
       "        [-0.0123,  0.0135, -0.0023,  ...,  0.9733, -0.0081, -0.0147],\n",
       "        [ 0.0227,  0.0029, -0.0023,  ..., -0.0081,  1.0180, -0.0119],\n",
       "        [-0.0084, -0.0136, -0.0039,  ..., -0.0147, -0.0119,  0.9942]],\n",
       "       device='cuda:0')"
      ]
     },
     "execution_count": 26,
     "metadata": {},
     "output_type": "execute_result"
    }
   ],
   "source": [
    "B"
   ]
  },
  {
   "cell_type": "code",
   "execution_count": null,
   "metadata": {
    "colab": {
     "base_uri": "https://localhost:8080/"
    },
    "id": "ZWrJwW_emSrC",
    "outputId": "e5a8272a-4c66-455f-f74d-373cb3517d5c"
   },
   "outputs": [
    {
     "data": {
      "text/plain": [
       "tensor(2.6986e-06, device='cuda:0')"
      ]
     },
     "execution_count": 27,
     "metadata": {},
     "output_type": "execute_result"
    }
   ],
   "source": [
    "torch.norm(B - torch.eye(m, device=B.device)) / (m ** 2)"
   ]
  },
  {
   "cell_type": "code",
   "execution_count": null,
   "metadata": {
    "colab": {
     "base_uri": "https://localhost:8080/"
    },
    "id": "9wwxrCtKvGiQ",
    "outputId": "8e60749e-e94b-43e3-b9ec-38d4921771bd"
   },
   "outputs": [
    {
     "data": {
      "text/plain": [
       "tensor([1.7051, 1.7013, 1.6997,  ..., 0.2995, 0.2973, 0.2936], device='cuda:0')"
      ]
     },
     "execution_count": 28,
     "metadata": {},
     "output_type": "execute_result"
    }
   ],
   "source": [
    "_, S, _ = torch.svd(A)\n",
    "S"
   ]
  },
  {
   "cell_type": "markdown",
   "metadata": {
    "id": "n1ksjlugrVQo"
   },
   "source": [
    "# QR分解"
   ]
  },
  {
   "cell_type": "markdown",
   "metadata": {
    "id": "cM8gKaOttrN_"
   },
   "source": [
    "## 方阵"
   ]
  },
  {
   "cell_type": "code",
   "execution_count": null,
   "metadata": {
    "colab": {
     "base_uri": "https://localhost:8080/"
    },
    "id": "2S8nH00WqMnf",
    "outputId": "1aa37710-65ea-4647-a5d0-fcea350f5757"
   },
   "outputs": [
    {
     "name": "stdout",
     "output_type": "stream",
     "text": [
      "Q shape: torch.Size([1024, 1024])\n",
      "Q matrix:\n",
      " tensor([[-0.0225, -0.0554,  0.0238,  ..., -0.0065,  0.0304,  0.0182],\n",
      "        [-0.0268, -0.0422, -0.0174,  ..., -0.0063,  0.0155, -0.0461],\n",
      "        [ 0.0087,  0.0264, -0.0156,  ..., -0.0812,  0.0171,  0.0135],\n",
      "        ...,\n",
      "        [ 0.0065,  0.0251,  0.0473,  ..., -0.0071,  0.0236, -0.0290],\n",
      "        [ 0.0112, -0.0542, -0.0181,  ..., -0.0931,  0.0058,  0.0254],\n",
      "        [-0.0090, -0.0227, -0.0003,  ...,  0.0092,  0.0117,  0.0205]],\n",
      "       device='cuda:0')\n",
      "Q^T * Q:\n",
      " tensor([[ 1.0000e+00,  2.7940e-08, -1.0245e-08,  ..., -5.5181e-08,\n",
      "          2.3283e-09, -4.7497e-08],\n",
      "        [ 2.7940e-08,  1.0000e+00, -3.9116e-08,  ..., -1.6764e-08,\n",
      "          3.9116e-08,  1.3039e-08],\n",
      "        [-1.0245e-08, -3.9116e-08,  1.0000e+00,  ..., -1.3970e-08,\n",
      "          1.4901e-08,  1.8626e-09],\n",
      "        ...,\n",
      "        [-5.5181e-08, -1.6764e-08, -1.3970e-08,  ...,  1.0000e+00,\n",
      "          2.7940e-09,  1.4901e-08],\n",
      "        [ 2.3283e-09,  3.9116e-08,  1.4901e-08,  ...,  2.7940e-09,\n",
      "          1.0000e+00,  1.4901e-08],\n",
      "        [-4.7497e-08,  1.3039e-08,  1.8626e-09,  ...,  1.4901e-08,\n",
      "          1.4901e-08,  1.0000e+00]], device='cuda:0')\n"
     ]
    },
    {
     "name": "stderr",
     "output_type": "stream",
     "text": [
      "<ipython-input-29-24a7494198ee>:8: UserWarning: torch.qr is deprecated in favor of torch.linalg.qr and will be removed in a future PyTorch release.\n",
      "The boolean parameter 'some' has been replaced with a string parameter 'mode'.\n",
      "Q, R = torch.qr(A, some)\n",
      "should be replaced with\n",
      "Q, R = torch.linalg.qr(A, 'reduced' if some else 'complete') (Triggered internally at ../aten/src/ATen/native/BatchLinearAlgebra.cpp:2416.)\n",
      "  Q, _ = torch.qr(A)\n"
     ]
    }
   ],
   "source": [
    "# 定义矩阵的大小，例如 m x n\n",
    "m, n = 1024, 1024\n",
    "\n",
    "# 生成一个随机矩阵\n",
    "A = torch.randn(m, n, device='cuda')\n",
    "\n",
    "# 进行QR分解\n",
    "Q, _ = torch.qr(A)\n",
    "\n",
    "# 确保Q是正交的，可以通过取Q的共轭转置\n",
    "Q = Q.conj().T\n",
    "\n",
    "# 验证Q是否是正交的\n",
    "print(\"Q shape:\", Q.shape)\n",
    "print(\"Q matrix:\\n\", Q)\n",
    "print(\"Q^T * Q:\\n\", torch.mm(Q.T, Q))"
   ]
  },
  {
   "cell_type": "code",
   "execution_count": null,
   "metadata": {
    "colab": {
     "base_uri": "https://localhost:8080/"
    },
    "id": "-ztrp_eRqNTo",
    "outputId": "69fdbfa1-2449-459d-b95b-4fed9c014a75"
   },
   "outputs": [
    {
     "data": {
      "text/plain": [
       "tensor([1.0005, 1.0005, 1.0005,  ..., 1.0002, 1.0002, 1.0002], device='cuda:0')"
      ]
     },
     "execution_count": 30,
     "metadata": {},
     "output_type": "execute_result"
    }
   ],
   "source": [
    "_, S, _ = torch.svd(Q)\n",
    "S"
   ]
  },
  {
   "cell_type": "code",
   "execution_count": null,
   "metadata": {
    "colab": {
     "base_uri": "https://localhost:8080/"
    },
    "id": "YxcBD_7Bq1GE",
    "outputId": "f4ade67d-0b40-4741-f7b5-bd437ef5eaf1"
   },
   "outputs": [
    {
     "data": {
      "text/plain": [
       "tensor(-1.9558e-08, device='cuda:0')"
      ]
     },
     "execution_count": 31,
     "metadata": {},
     "output_type": "execute_result"
    }
   ],
   "source": [
    "torch.dot(Q[0], Q[1])"
   ]
  },
  {
   "cell_type": "code",
   "execution_count": null,
   "metadata": {
    "colab": {
     "base_uri": "https://localhost:8080/"
    },
    "id": "lyVD6l-vr15d",
    "outputId": "32539efa-b646-4d4a-ef99-29d71e5c5b1f"
   },
   "outputs": [
    {
     "data": {
      "text/plain": [
       "tensor(2.5146e-08, device='cuda:0')"
      ]
     },
     "execution_count": 32,
     "metadata": {},
     "output_type": "execute_result"
    }
   ],
   "source": [
    "torch.dot(Q[:, 0], Q[:, 1])"
   ]
  },
  {
   "cell_type": "code",
   "execution_count": null,
   "metadata": {
    "colab": {
     "base_uri": "https://localhost:8080/"
    },
    "id": "VCJkptYusb1P",
    "outputId": "487a634d-5051-45c1-a055-7b449a7fedcf"
   },
   "outputs": [
    {
     "data": {
      "text/plain": [
       "tensor(1., device='cuda:0')"
      ]
     },
     "execution_count": 33,
     "metadata": {},
     "output_type": "execute_result"
    }
   ],
   "source": [
    "torch.norm(Q[0])"
   ]
  },
  {
   "cell_type": "code",
   "execution_count": null,
   "metadata": {
    "colab": {
     "base_uri": "https://localhost:8080/"
    },
    "id": "ekpGh4Q7slZY",
    "outputId": "7659f2b6-7a6e-4efb-fb5c-cf1ee3dc49ea"
   },
   "outputs": [
    {
     "data": {
      "text/plain": [
       "tensor(1., device='cuda:0')"
      ]
     },
     "execution_count": 34,
     "metadata": {},
     "output_type": "execute_result"
    }
   ],
   "source": [
    "torch.norm(Q[:, 0])"
   ]
  },
  {
   "cell_type": "markdown",
   "metadata": {
    "id": "DkF5deFAtyLh"
   },
   "source": [
    "## 行数大于列数"
   ]
  },
  {
   "cell_type": "code",
   "execution_count": null,
   "metadata": {
    "colab": {
     "base_uri": "https://localhost:8080/"
    },
    "id": "DWuphYGrtytu",
    "outputId": "baab7932-f489-4d17-e160-848989ef2ad3"
   },
   "outputs": [
    {
     "name": "stdout",
     "output_type": "stream",
     "text": [
      "Q shape: torch.Size([1024, 8192])\n",
      "Q matrix:\n",
      " tensor([[-1.7934e-03, -4.2859e-03,  6.1266e-03,  ...,  1.3964e-03,\n",
      "          2.6025e-02,  5.0162e-03],\n",
      "        [ 3.3993e-03, -6.4243e-03,  1.7593e-02,  ..., -1.0766e-02,\n",
      "          6.3614e-03, -7.2805e-03],\n",
      "        [-1.4938e-02, -1.5316e-02, -1.0364e-02,  ..., -2.6297e-03,\n",
      "         -1.7472e-02, -3.2588e-03],\n",
      "        ...,\n",
      "        [-1.3105e-05,  1.4949e-02,  3.9246e-03,  ...,  4.3051e-03,\n",
      "         -8.5429e-03,  2.3750e-02],\n",
      "        [-1.0177e-02,  8.7232e-03, -1.2767e-02,  ...,  1.0789e-03,\n",
      "         -7.4314e-03, -8.8782e-04],\n",
      "        [-5.8803e-03,  3.7844e-03,  2.3275e-03,  ...,  1.4252e-02,\n",
      "         -1.7017e-02, -2.3851e-02]], device='cuda:0')\n",
      "Q^T * Q:\n",
      " tensor([[ 0.1220,  0.0003, -0.0006,  ...,  0.0006,  0.0045,  0.0016],\n",
      "        [ 0.0003,  0.1283,  0.0007,  ...,  0.0021, -0.0023, -0.0041],\n",
      "        [-0.0006,  0.0007,  0.1190,  ..., -0.0011,  0.0032,  0.0022],\n",
      "        ...,\n",
      "        [ 0.0006,  0.0021, -0.0011,  ...,  0.1322, -0.0011, -0.0048],\n",
      "        [ 0.0045, -0.0023,  0.0032,  ..., -0.0011,  0.1301, -0.0035],\n",
      "        [ 0.0016, -0.0041,  0.0022,  ..., -0.0048, -0.0035,  0.1189]],\n",
      "       device='cuda:0')\n"
     ]
    }
   ],
   "source": [
    "# 定义矩阵的大小，例如 m x n\n",
    "m, n = 8192, 1024\n",
    "\n",
    "# 生成一个随机矩阵\n",
    "A = torch.randn(m, n, device='cuda')\n",
    "\n",
    "# 进行QR分解\n",
    "Q, _ = torch.qr(A)\n",
    "\n",
    "# 确保Q是正交的，可以通过取Q的共轭转置\n",
    "Q = Q.conj().T\n",
    "\n",
    "# 验证Q是否是正交的\n",
    "print(\"Q shape:\", Q.shape)\n",
    "print(\"Q matrix:\\n\", Q)\n",
    "print(\"Q^T * Q:\\n\", torch.mm(Q.T, Q))"
   ]
  },
  {
   "cell_type": "code",
   "execution_count": null,
   "metadata": {
    "colab": {
     "base_uri": "https://localhost:8080/"
    },
    "id": "OOoW99e1t6Zb",
    "outputId": "488dd3e0-6aac-4bbe-ffee-f14abf4366e9"
   },
   "outputs": [
    {
     "data": {
      "text/plain": [
       "tensor([1.0002, 1.0002, 1.0002,  ..., 1.0000, 1.0000, 1.0000], device='cuda:0')"
      ]
     },
     "execution_count": 36,
     "metadata": {},
     "output_type": "execute_result"
    }
   ],
   "source": [
    "_, S, _ = torch.svd(Q)\n",
    "S"
   ]
  },
  {
   "cell_type": "code",
   "execution_count": null,
   "metadata": {
    "colab": {
     "base_uri": "https://localhost:8080/"
    },
    "id": "WbpN7y0At9Yh",
    "outputId": "c5e0e93f-224c-44e7-a132-2899f0d47586"
   },
   "outputs": [
    {
     "data": {
      "text/plain": [
       "tensor(-7.7998e-09, device='cuda:0')"
      ]
     },
     "execution_count": 37,
     "metadata": {},
     "output_type": "execute_result"
    }
   ],
   "source": [
    "torch.dot(Q[0], Q[1])"
   ]
  },
  {
   "cell_type": "code",
   "execution_count": null,
   "metadata": {
    "colab": {
     "base_uri": "https://localhost:8080/"
    },
    "id": "FAkqPtpwuBCo",
    "outputId": "774fd8f3-af6f-44ad-dd4c-1705053260e6"
   },
   "outputs": [
    {
     "data": {
      "text/plain": [
       "tensor(0.0003, device='cuda:0')"
      ]
     },
     "execution_count": 38,
     "metadata": {},
     "output_type": "execute_result"
    }
   ],
   "source": [
    "torch.dot(Q[:, 0], Q[:, 1])"
   ]
  },
  {
   "cell_type": "code",
   "execution_count": null,
   "metadata": {
    "colab": {
     "base_uri": "https://localhost:8080/"
    },
    "id": "F5-lvf3-uDEt",
    "outputId": "1293a45e-e07b-412e-f490-303a9eb40ce6"
   },
   "outputs": [
    {
     "data": {
      "text/plain": [
       "tensor(1.0000, device='cuda:0')"
      ]
     },
     "execution_count": 39,
     "metadata": {},
     "output_type": "execute_result"
    }
   ],
   "source": [
    "torch.norm(Q[0])"
   ]
  },
  {
   "cell_type": "code",
   "execution_count": null,
   "metadata": {
    "colab": {
     "base_uri": "https://localhost:8080/"
    },
    "id": "noMDCiahuGUw",
    "outputId": "69997762-e4c2-4ef6-ee7b-bb8d30c4042c"
   },
   "outputs": [
    {
     "data": {
      "text/plain": [
       "tensor(0.3493, device='cuda:0')"
      ]
     },
     "execution_count": 40,
     "metadata": {},
     "output_type": "execute_result"
    }
   ],
   "source": [
    "torch.norm(Q[:, 0])"
   ]
  },
  {
   "cell_type": "markdown",
   "metadata": {
    "id": "ZaD0H9aouX3k"
   },
   "source": [
    "## 行数小于列数"
   ]
  },
  {
   "cell_type": "code",
   "execution_count": null,
   "metadata": {
    "colab": {
     "base_uri": "https://localhost:8080/"
    },
    "id": "r5OxYO9budXv",
    "outputId": "94e537a7-9901-4975-8109-efb43948bdcc"
   },
   "outputs": [
    {
     "name": "stdout",
     "output_type": "stream",
     "text": [
      "Q shape: torch.Size([1024, 1024])\n",
      "Q matrix:\n",
      " tensor([[-0.0092,  0.0026, -0.0276,  ..., -0.0356,  0.0119, -0.0034],\n",
      "        [ 0.0176, -0.0163, -0.0362,  ..., -0.0197,  0.0433,  0.0550],\n",
      "        [ 0.0220,  0.0515, -0.0179,  ..., -0.0684,  0.0321,  0.0377],\n",
      "        ...,\n",
      "        [ 0.0153, -0.0602, -0.0049,  ...,  0.0074, -0.0618,  0.0156],\n",
      "        [ 0.0142,  0.0006, -0.0010,  ...,  0.0149, -0.0084,  0.0506],\n",
      "        [ 0.0113,  0.0266,  0.0025,  ..., -0.0470, -0.0057, -0.0388]],\n",
      "       device='cuda:0')\n",
      "Q^T * Q:\n",
      " tensor([[ 1.0000e+00,  3.9116e-08,  4.3772e-08,  ...,  2.8871e-08,\n",
      "         -1.4901e-08,  9.3132e-10],\n",
      "        [ 3.9116e-08,  1.0000e+00, -2.9802e-08,  ..., -3.3528e-08,\n",
      "          9.3132e-09,  2.1886e-08],\n",
      "        [ 4.3772e-08, -2.9802e-08,  1.0000e+00,  ...,  5.1223e-09,\n",
      "          4.1910e-09, -2.9802e-08],\n",
      "        ...,\n",
      "        [ 2.8871e-08, -3.3528e-08,  5.1223e-09,  ...,  1.0000e+00,\n",
      "          2.3749e-08, -4.1910e-08],\n",
      "        [-1.4901e-08,  9.3132e-09,  4.1910e-09,  ...,  2.3749e-08,\n",
      "          1.0000e+00, -9.3132e-09],\n",
      "        [ 9.3132e-10,  2.1886e-08, -2.9802e-08,  ..., -4.1910e-08,\n",
      "         -9.3132e-09,  1.0000e+00]], device='cuda:0')\n"
     ]
    }
   ],
   "source": [
    "# 定义矩阵的大小，例如 m x n\n",
    "m, n = 1024, 8192\n",
    "\n",
    "# 生成一个随机矩阵\n",
    "A = torch.randn(m, n, device='cuda')\n",
    "\n",
    "# 进行QR分解\n",
    "Q, _ = torch.qr(A)\n",
    "\n",
    "# 确保Q是正交的，可以通过取Q的共轭转置\n",
    "Q = Q.conj().T\n",
    "\n",
    "# 验证Q是否是正交的\n",
    "print(\"Q shape:\", Q.shape)\n",
    "print(\"Q matrix:\\n\", Q)\n",
    "print(\"Q^T * Q:\\n\", torch.mm(Q.T, Q))"
   ]
  },
  {
   "cell_type": "code",
   "execution_count": null,
   "metadata": {
    "colab": {
     "base_uri": "https://localhost:8080/"
    },
    "id": "c5n1sKiouhR-",
    "outputId": "c7965af9-b6e3-435e-cf66-7347831fccb1"
   },
   "outputs": [
    {
     "data": {
      "text/plain": [
       "tensor([1.0005, 1.0005, 1.0005,  ..., 1.0002, 1.0002, 1.0002], device='cuda:0')"
      ]
     },
     "execution_count": 42,
     "metadata": {},
     "output_type": "execute_result"
    }
   ],
   "source": [
    "_, S, _ = torch.svd(Q)\n",
    "S"
   ]
  },
  {
   "cell_type": "code",
   "execution_count": null,
   "metadata": {
    "colab": {
     "base_uri": "https://localhost:8080/"
    },
    "id": "mIjTTUhGujBb",
    "outputId": "55f9718b-0d97-4d7a-9e72-1f12c1e885fc"
   },
   "outputs": [
    {
     "data": {
      "text/plain": [
       "tensor(-9.3132e-10, device='cuda:0')"
      ]
     },
     "execution_count": 43,
     "metadata": {},
     "output_type": "execute_result"
    }
   ],
   "source": [
    "torch.dot(Q[0], Q[1])"
   ]
  },
  {
   "cell_type": "code",
   "execution_count": null,
   "metadata": {
    "colab": {
     "base_uri": "https://localhost:8080/"
    },
    "id": "_APZ6avBuknq",
    "outputId": "b0471b0c-5f6a-4def-cf24-0cbefa16fdd4"
   },
   "outputs": [
    {
     "data": {
      "text/plain": [
       "tensor(4.6566e-08, device='cuda:0')"
      ]
     },
     "execution_count": 44,
     "metadata": {},
     "output_type": "execute_result"
    }
   ],
   "source": [
    "torch.dot(Q[:, 0], Q[:, 1])"
   ]
  },
  {
   "cell_type": "code",
   "execution_count": null,
   "metadata": {
    "colab": {
     "base_uri": "https://localhost:8080/"
    },
    "id": "18PlINahumOZ",
    "outputId": "c3e66d36-9b60-4b32-e20d-ae0458b673d2"
   },
   "outputs": [
    {
     "data": {
      "text/plain": [
       "tensor(1., device='cuda:0')"
      ]
     },
     "execution_count": 45,
     "metadata": {},
     "output_type": "execute_result"
    }
   ],
   "source": [
    "torch.norm(Q[0])"
   ]
  },
  {
   "cell_type": "code",
   "execution_count": null,
   "metadata": {
    "colab": {
     "base_uri": "https://localhost:8080/"
    },
    "id": "yM4G9hcOunmz",
    "outputId": "0da023ac-88d2-4cec-b120-626758b0714a"
   },
   "outputs": [
    {
     "data": {
      "text/plain": [
       "tensor(1., device='cuda:0')"
      ]
     },
     "execution_count": 46,
     "metadata": {},
     "output_type": "execute_result"
    }
   ],
   "source": [
    "torch.norm(Q[:, 0])"
   ]
  }
 ],
 "metadata": {
  "accelerator": "GPU",
  "colab": {
   "gpuType": "T4",
   "provenance": [],
   "toc_visible": true
  },
  "kernelspec": {
   "display_name": "Python 3 (ipykernel)",
   "language": "python",
   "name": "python3"
  },
  "language_info": {
   "codemirror_mode": {
    "name": "ipython",
    "version": 3
   },
   "file_extension": ".py",
   "mimetype": "text/x-python",
   "name": "python",
   "nbconvert_exporter": "python",
   "pygments_lexer": "ipython3",
   "version": "3.12.4"
  }
 },
 "nbformat": 4,
 "nbformat_minor": 4
}
