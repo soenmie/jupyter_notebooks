{
 "cells": [
  {
   "cell_type": "code",
   "execution_count": null,
   "id": "00c1acf3-f011-4d35-a634-ad925dae45b9",
   "metadata": {},
   "outputs": [],
   "source": []
  },
  {
   "cell_type": "markdown",
   "id": "7e066084-6763-41c7-b777-abd18594128f",
   "metadata": {},
   "source": [
    " - kto: https://arxiv.org/pdf/2402.01306\n",
    " - dpo: https://arxiv.org/pdf/2305.18290\n",
    "   - https://www.cnblogs.com/lemonzhang/p/17910358.html"
   ]
  },
  {
   "cell_type": "code",
   "execution_count": null,
   "id": "f4897aa1-1d69-430e-bbd1-f0a0fe34dab8",
   "metadata": {},
   "outputs": [],
   "source": []
  },
  {
   "cell_type": "code",
   "execution_count": null,
   "id": "591eda75-520b-44c0-bda8-d759ce33429c",
   "metadata": {},
   "outputs": [],
   "source": []
  }
 ],
 "metadata": {
  "kernelspec": {
   "display_name": "Python 3 (ipykernel)",
   "language": "python",
   "name": "python3"
  },
  "language_info": {
   "codemirror_mode": {
    "name": "ipython",
    "version": 3
   },
   "file_extension": ".py",
   "mimetype": "text/x-python",
   "name": "python",
   "nbconvert_exporter": "python",
   "pygments_lexer": "ipython3",
   "version": "3.12.4"
  }
 },
 "nbformat": 4,
 "nbformat_minor": 5
}
