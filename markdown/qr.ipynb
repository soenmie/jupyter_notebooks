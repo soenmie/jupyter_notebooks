{
 "cells": [
  {
   "cell_type": "markdown",
   "id": "45793e9c-21be-40a7-ba57-d4b4a5d34f64",
   "metadata": {},
   "source": [
    "# qr分解"
   ]
  },
  {
   "cell_type": "markdown",
   "id": "206f63ef-9c90-4ed3-a87c-d2b4853e2873",
   "metadata": {},
   "source": [
    "QR分解的具体做法主要有Gram-Schmidt正交化法、Householder变换法和Givens旋转法等。下面我将简要描述这三种方法。\n",
    "\n",
    "### 1. Gram-Schmidt正交化法\n",
    "Gram-Schmidt正交化是最直观的QR分解方法，它通过正交化过程逐步构建正交矩阵Q的列向量。给定一个矩阵A，其列向量为{a_1, a_2, ..., a_n}，以下是Gram-Schmidt正交化过程：\n",
    "\n",
    "1. 从第一个列向量开始，设置q_1 = a_1 / ||a_1||，其中||a_1||是a_1的欧几里得范数。\n",
    "\n",
    "2. 对于第k个列向量a_k（k = 2, 3, ..., n），计算其与之前所有q_i（i = 1, ..., k-1）的投影，并从a_k中减去这些投影，得到与前面所有q_i都正交的向量。\n",
    "\n",
    "   u_k = a_k - Σ_{i=1}^{k-1} ⟨a_k, q_i⟩ q_i\n",
    "\n",
    "    其中 ⟨., .⟩ 表示向量内积。\n",
    "\n",
    "3. 归一化u_k以得到q_k：\n",
    "\n",
    "   q_k = u_k / ||u_k||\n",
    "\n",
    "4. 重复步骤2和3直到处理完所有列向量。\n",
    "\n",
    "完成以上步骤后，我们得到Q矩阵的列向量{q_1, q_2, ..., q_n}。上三角矩阵R的对角线及其上方的元素可以通过计算a_k在q_i上的投影得到，即R_ij = ⟨a_j, q_i⟩。\n",
    "\n",
    "### 2. Householder变换法\n",
    "Householder变换法通过一系列反射来“零化”一个向量的部分分量，从而达到构建上三角矩阵的目的。每一个Householder变换将一个向量映射到一个仅在一个分量上有非零值的向量上。\n",
    "\n",
    "对于矩阵A，Householder变换一步步地将A中的列向量转换为上三角形式：\n",
    "\n",
    "1. 构造Householder矩阵H1，使得H1a_1的结果是e1（第一个标准基向量）乘以一个标量。这将a_1列转为上三角形。\n",
    "\n",
    "2. 对剩余的子矩阵A(2:m, 2:n)重复此过程，与前面的步骤类似，但是每次应用Householder矩阵只作用于子矩阵。\n",
    "\n",
    "3. 进行n-1次变换后，矩阵A被转化为上三角矩阵R。\n",
    "\n",
    "Householder变换是正交变换（其实是一种特殊的反射），所以最终的矩阵Q可以通过将所有的Householder矩阵相乘得到。\n",
    "\n",
    "### 3. Givens旋转法\n",
    "Givens旋转是通过一系列的旋转来将特定位置的元素转变成0。这个方法更适合稀疏矩阵或者是只需要更新矩阵部分元素的情况。\n",
    "\n",
    "给定A的某个元素，我们希望通过旋转把它变为0。这通过选择旋转角度使得a_ij和某个选择的元素a_ii构成的2维向量在旋转后映射到x轴上实现。\n",
    "\n",
    "1. 构造Givens旋转矩阵G(i, j, θ)，使得通过旋转能够“零化”目标元素a_ij。\n",
    "\n",
    "2. 一步步用G(i, j, θ)乘以A，来更新矩阵元素。\n",
    "\n",
    "3. 经过一系列的旋转，最终将A转化为上三角矩阵R。\n",
    "\n",
    "同样的，所有的Givens旋转矩阵G相乘会给出正交矩阵Q。\n",
    "\n",
    "在实际应用中，通常会选择Householder变换进行QR分解，因为它的数值稳定性通常更好，它特别适合于标准型的计算机算法。而Givens旋转则更适用于稀疏矩阵或者是并行计算。"
   ]
  },
  {
   "cell_type": "code",
   "execution_count": null,
   "id": "37cd0068-1825-4585-9620-890d71ae7c5d",
   "metadata": {},
   "outputs": [],
   "source": []
  }
 ],
 "metadata": {
  "kernelspec": {
   "display_name": "Python 3 (ipykernel)",
   "language": "python",
   "name": "python3"
  },
  "language_info": {
   "codemirror_mode": {
    "name": "ipython",
    "version": 3
   },
   "file_extension": ".py",
   "mimetype": "text/x-python",
   "name": "python",
   "nbconvert_exporter": "python",
   "pygments_lexer": "ipython3",
   "version": "3.12.4"
  }
 },
 "nbformat": 4,
 "nbformat_minor": 5
}
