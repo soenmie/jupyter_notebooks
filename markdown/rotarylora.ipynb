{
 "cells": [
  {
   "cell_type": "markdown",
   "id": "9ed2ad21-6ea6-46d0-bdfb-054b92dcf160",
   "metadata": {},
   "source": [
    "# Rotary Lora"
   ]
  },
  {
   "cell_type": "code",
   "execution_count": 1,
   "id": "197c0e1f-fe4c-491d-9f31-c098d8c21d0a",
   "metadata": {},
   "outputs": [],
   "source": [
    "import torch\n",
    "import torch.nn as nn\n",
    "\n",
    "class RotaryLora(nn.Module):\n",
    "    def __init__(self, model_dim, lora_rank):\n",
    "        super().__init__()\n",
    "        assert lora_rank % 2 == 0\n",
    "\n",
    "        self.model_dim = model_dim\n",
    "        self.lora_rank = lora_rank\n",
    "\n",
    "        self.A = nn.Parameter(torch.empty(model_dim, lora_rank))\n",
    "        self.B = nn.Parameter(torch.empty(lora_rank, model_dim))\n",
    "\n",
    "        self._init_parameters()\n",
    "\n",
    "    def _init_parameters(self):\n",
    "        half_rank = self.lora_rank // 2\n",
    "        std = torch.sqrt(torch.tensor(self.lora_rank))\n",
    "\n",
    "        half_A = torch.randn((self.model_dim, half_rank)) / std\n",
    "        self.A.data = torch.cat([half_A, half_A], dim=-1)\n",
    "\n",
    "        half_B = torch.randn((half_rank, self.model_dim)) / std\n",
    "        self.B.data = torch.cat([-half_B, half_B], dim=0)\n",
    "\n",
    "    def forward(self, x):\n",
    "        # Make sure input x has shape (batch_size, sequence_length, model_dim)\n",
    "        return torch.matmul(torch.matmul(x, self.A), self.B)"
   ]
  },
  {
   "cell_type": "code",
   "execution_count": 2,
   "id": "c267060d-ebf9-4162-9fae-09cfd29af121",
   "metadata": {},
   "outputs": [],
   "source": [
    "model_dim = 8\n",
    "lora_rank = 8096\n",
    "rotary_lora = RotaryLora(model_dim=model_dim, lora_rank=lora_rank)"
   ]
  },
  {
   "cell_type": "code",
   "execution_count": 3,
   "id": "cbe28df0-8cdf-4e74-b704-be44e090deee",
   "metadata": {},
   "outputs": [
    {
     "data": {
      "text/plain": [
       "tensor([[True, True, True, True, True, True, True, True],\n",
       "        [True, True, True, True, True, True, True, True],\n",
       "        [True, True, True, True, True, True, True, True],\n",
       "        [True, True, True, True, True, True, True, True],\n",
       "        [True, True, True, True, True, True, True, True],\n",
       "        [True, True, True, True, True, True, True, True],\n",
       "        [True, True, True, True, True, True, True, True],\n",
       "        [True, True, True, True, True, True, True, True]])"
      ]
     },
     "execution_count": 3,
     "metadata": {},
     "output_type": "execute_result"
    }
   ],
   "source": [
    "rotary_lora.A @ rotary_lora.B < 1e-7"
   ]
  },
  {
   "cell_type": "code",
   "execution_count": 4,
   "id": "1594583f-ed9b-4db8-92d2-1c5d1d55a615",
   "metadata": {},
   "outputs": [
    {
     "data": {
      "text/plain": [
       "tensor([0.9893, 1.0137, 0.9990, 0.9998, 0.9942, 1.0083, 1.0102, 1.0074],\n",
       "       grad_fn=<LinalgVectorNormBackward0>)"
      ]
     },
     "execution_count": 4,
     "metadata": {},
     "output_type": "execute_result"
    }
   ],
   "source": [
    "torch.norm(rotary_lora.A, dim=1)"
   ]
  },
  {
   "cell_type": "code",
   "execution_count": 5,
   "id": "b4494f8b-bb89-4dbc-9cbc-e5a06e98b9b1",
   "metadata": {},
   "outputs": [
    {
     "data": {
      "text/plain": [
       "tensor([0.9798, 1.0130, 0.9973, 0.9792, 0.9905, 1.0020, 1.0121, 1.0138],\n",
       "       grad_fn=<LinalgVectorNormBackward0>)"
      ]
     },
     "execution_count": 5,
     "metadata": {},
     "output_type": "execute_result"
    }
   ],
   "source": [
    "torch.norm(rotary_lora.B.T, dim=1)"
   ]
  },
  {
   "cell_type": "code",
   "execution_count": 6,
   "id": "e8a02fd0-298a-42bd-b13a-69d7f78e5443",
   "metadata": {},
   "outputs": [
    {
     "name": "stdout",
     "output_type": "stream",
     "text": [
      "----------------------------------------------------------------------------------------------------\n",
      "step0 norm(lora.A.grad): tensor(1.0158)\n",
      "step0 norm(lora.B.grad): tensor(1.0171)\n",
      "step0 norm(y): tensor(6.9340e-08, grad_fn=<LinalgVectorNormBackward0>)\n",
      "----------------------------------------------------------------------------------------------------\n",
      "step1 norm(lora.A.grad): tensor(0.5577)\n",
      "step1 norm(lora.B.grad): tensor(0.5593)\n",
      "step1 norm(y): tensor(0.0062, grad_fn=<LinalgVectorNormBackward0>)\n",
      "----------------------------------------------------------------------------------------------------\n",
      "step2 norm(lora.A.grad): tensor(1.0429)\n",
      "step2 norm(lora.B.grad): tensor(1.0445)\n",
      "step2 norm(y): tensor(0.0551, grad_fn=<LinalgVectorNormBackward0>)\n",
      "----------------------------------------------------------------------------------------------------\n",
      "step3 norm(lora.A.grad): tensor(0.8516)\n",
      "step3 norm(lora.B.grad): tensor(0.8463)\n",
      "step3 norm(y): tensor(0.0544, grad_fn=<LinalgVectorNormBackward0>)\n",
      "----------------------------------------------------------------------------------------------------\n",
      "step4 norm(lora.A.grad): tensor(0.7030)\n",
      "step4 norm(lora.B.grad): tensor(0.7113)\n",
      "step4 norm(y): tensor(0.1602, grad_fn=<LinalgVectorNormBackward0>)\n",
      "----------------------------------------------------------------------------------------------------\n",
      "step5 norm(lora.A.grad): tensor(0.3548)\n",
      "step5 norm(lora.B.grad): tensor(0.3583)\n",
      "step5 norm(y): tensor(0.0416, grad_fn=<LinalgVectorNormBackward0>)\n",
      "----------------------------------------------------------------------------------------------------\n",
      "step6 norm(lora.A.grad): tensor(0.9152)\n",
      "step6 norm(lora.B.grad): tensor(0.9113)\n",
      "step6 norm(y): tensor(0.0450, grad_fn=<LinalgVectorNormBackward0>)\n",
      "----------------------------------------------------------------------------------------------------\n",
      "step7 norm(lora.A.grad): tensor(0.8343)\n",
      "step7 norm(lora.B.grad): tensor(0.8311)\n",
      "step7 norm(y): tensor(0.3565, grad_fn=<LinalgVectorNormBackward0>)\n",
      "----------------------------------------------------------------------------------------------------\n",
      "step8 norm(lora.A.grad): tensor(0.9555)\n",
      "step8 norm(lora.B.grad): tensor(0.9696)\n",
      "step8 norm(y): tensor(0.1444, grad_fn=<LinalgVectorNormBackward0>)\n",
      "----------------------------------------------------------------------------------------------------\n",
      "step9 norm(lora.A.grad): tensor(0.9290)\n",
      "step9 norm(lora.B.grad): tensor(0.9249)\n",
      "step9 norm(y): tensor(0.0945, grad_fn=<LinalgVectorNormBackward0>)\n"
     ]
    }
   ],
   "source": [
    "import torch.optim as optim\n",
    "\n",
    "optimizer = optim.SGD(params=rotary_lora.parameters(), lr=0.01, momentum=0.9)\n",
    "\n",
    "for idx in range(10):\n",
    "    print('-' * 100)\n",
    "    optimizer.zero_grad()\n",
    "    x = torch.randn((model_dim, ))\n",
    "    y = rotary_lora(x)\n",
    "    z = y.mean()\n",
    "    z.backward()\n",
    "    print(f'step{idx} norm(lora.A.grad):', torch.norm(rotary_lora.A.grad))\n",
    "    print(f'step{idx} norm(lora.B.grad):', torch.norm(rotary_lora.B.grad))\n",
    "    print(f'step{idx} norm(y):', torch.norm(y))\n",
    "    # print('lora.A:', rotary_lora.A)\n",
    "    # print('lora.B:', rotary_lora.B)\n",
    "    optimizer.step()"
   ]
  },
  {
   "cell_type": "code",
   "execution_count": null,
   "id": "8cb98668-c34b-472f-b2a1-a5f847aa3d3e",
   "metadata": {},
   "outputs": [],
   "source": []
  }
 ],
 "metadata": {
  "kernelspec": {
   "display_name": "Python 3 (ipykernel)",
   "language": "python",
   "name": "python3"
  },
  "language_info": {
   "codemirror_mode": {
    "name": "ipython",
    "version": 3
   },
   "file_extension": ".py",
   "mimetype": "text/x-python",
   "name": "python",
   "nbconvert_exporter": "python",
   "pygments_lexer": "ipython3",
   "version": "3.12.4"
  }
 },
 "nbformat": 4,
 "nbformat_minor": 5
}
