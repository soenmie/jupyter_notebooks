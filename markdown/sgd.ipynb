{
 "cells": [
  {
   "cell_type": "code",
   "execution_count": null,
   "id": "42279b9d-b84b-4289-a54b-ddd46e917e7a",
   "metadata": {},
   "outputs": [],
   "source": []
  },
  {
   "cell_type": "markdown",
   "id": "c8f95952-a850-46b6-8178-0fe63487d838",
   "metadata": {},
   "source": [
    "SGD（Stochastic Gradient Descent，随机梯度下降）优化器是一种广泛应用于机器学习和深度学习中的优化算法。它的基本理念是通过迭代地调整模型参数，以最小化某一损失函数，从而使模型性能不断改进。\n",
    "\n",
    "以下是SGD优化器的一些关键特点和工作原理：\n",
    "\n",
    "### 1. 基本原理\n",
    "SGD是梯度下降（Gradient Descent）的一种变体。传统的梯度下降算法在每次参数更新时使用整个训练集的梯度，而SGD则使用一个随机选取的样本或一个小批量（Mini-batch）的样本来计算并更新参数。\n",
    "\n",
    "### 2. 工作流程\n",
    "1. **初始化参数**：随机初始化模型的参数。\n",
    "2. **迭代更新参数**：\n",
    "    - 从训练集随机选取一个样本或一个小批量样本。\n",
    "    - 计算选取样本的梯度，即损失函数对模型参数的偏导数。\n",
    "    - 更新模型参数：\n",
    "    \n",
    "    $$\n",
    "    \\theta = \\theta - \\eta \\cdot \\nabla_{\\theta} L(\\theta; x_i, y_i)\n",
    "    $$\n",
    "\n",
    "    其中，$\\theta$为模型参数，$\\eta$为学习率，$\\nabla_{\\theta} L(\\theta; x_i, y_i)$为选取样本的梯度。\n",
    "\n",
    "### 3. 优点\n",
    "- **计算效率高**：每次只使用一个样本或小批量样本的梯度，计算速度比批梯度下降更快。\n",
    "- **在线学习**：可以逐个样本在线更新模型，适用于实时数据处理。\n",
    "- **能逃离局部最优解**：由于引入了随机性，有助于跳出局部最优解，特别是对于复杂的非凸损失函数。\n",
    "\n",
    "### 4. 缺点\n",
    "- **震荡**：由于每次更新使用的样本不同，导致更新方向不稳定，参数更新过程有较大震荡。\n",
    "- **收敛速度慢**：相比于批梯度下降，收敛的速度可能较慢。\n",
    "- **超参数调节复杂**：需要仔细选择合适的学习率和小批量大小，优化过程较为繁琐。\n",
    "\n",
    "### 5. 改进版本\n",
    "为了克服SGD的一些缺点，研究者提出了许多改进版本：\n",
    "- **动量法（SGD with Momentum）**：通过引入动量项，减小梯度的震荡。\n",
    "- **AdaGrad**：自适应地调整学习率。\n",
    "- **RMSProp**：进一步改进了AdaGrad，缓解其学习率下降过快的化。\n",
    "- **Adam**：结合了动量法和RMSProp的优点，是目前最常用的优化算法之一。\n",
    "\n",
    "### 6. 典型应用场景\n",
    "- 深度神经网络训练\n",
    "- 大规模机器学习任务\n",
    "- 实时在线学习\n",
    "\n",
    "SGD优化器因其简单有效且易于实现，成为各种机器学习和深度学习模型中的常用优化工具。尽管有其局限性，但通过适当调节参数和使用改进版本，SGD依然是一个强有力的优化器。"
   ]
  },
  {
   "cell_type": "code",
   "execution_count": null,
   "id": "80c26466-afa5-4d54-b2d4-794834325365",
   "metadata": {},
   "outputs": [],
   "source": []
  }
 ],
 "metadata": {
  "kernelspec": {
   "display_name": "Python 3 (ipykernel)",
   "language": "python",
   "name": "python3"
  },
  "language_info": {
   "codemirror_mode": {
    "name": "ipython",
    "version": 3
   },
   "file_extension": ".py",
   "mimetype": "text/x-python",
   "name": "python",
   "nbconvert_exporter": "python",
   "pygments_lexer": "ipython3",
   "version": "3.12.4"
  }
 },
 "nbformat": 4,
 "nbformat_minor": 5
}
